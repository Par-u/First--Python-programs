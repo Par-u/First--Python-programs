{
  "nbformat": 4,
  "nbformat_minor": 0,
  "metadata": {
    "colab": {
      "provenance": [],
      "toc_visible": true
    },
    "kernelspec": {
      "name": "python3",
      "display_name": "Python 3"
    },
    "language_info": {
      "name": "python"
    }
  },
  "cells": [
    {
      "cell_type": "code",
      "source": [
        "month1 = int(input('no of days'))\n",
        "month2 = ('january' == 31,'february' ==28,'march' ==31,'april' ==30,'may'== 31,'june' ==30,'july' ==31,'august' ==31,'september' ==30,'october' ==31,'november' ==30,'december' ==31)\n",
        "if month1 % 31 == 0:\n",
        "  print ('january,march,may,july,august,october,december has 31 days')\n",
        "elif month1 % 30 == 0:\n",
        "    print('april,june,september,november has 30 days')\n",
        "elif month1 % 28 == 0:\n",
        "    print('month is february')\n",
        "else: \n",
        "    print('month name not present') "
      ],
      "metadata": {
        "colab": {
          "base_uri": "https://localhost:8080/"
        },
        "id": "59qpkRROKCLH",
        "outputId": "0f2a2440-45c8-4799-990b-7fcf0317b343"
      },
      "execution_count": 69,
      "outputs": [
        {
          "output_type": "stream",
          "name": "stdout",
          "text": [
            "no of days5\n",
            "month name not present\n"
          ]
        }
      ]
    }
  ]
}
